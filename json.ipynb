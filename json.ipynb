{
  "nbformat": 4,
  "nbformat_minor": 0,
  "metadata": {
    "colab": {
      "name": "json.ipynb",
      "provenance": [],
      "include_colab_link": true
    },
    "kernelspec": {
      "name": "python3",
      "display_name": "Python 3"
    }
  },
  "cells": [
    {
      "cell_type": "markdown",
      "metadata": {
        "id": "view-in-github",
        "colab_type": "text"
      },
      "source": [
        "<a href=\"https://colab.research.google.com/github/piyush0391/Chatbot-/blob/master/json.ipynb\" target=\"_parent\"><img src=\"https://colab.research.google.com/assets/colab-badge.svg\" alt=\"Open In Colab\"/></a>"
      ]
    },
    {
      "cell_type": "code",
      "metadata": {
        "id": "vCypQswpimj_",
        "colab_type": "code",
        "colab": {}
      },
      "source": [
        "import json "
      ],
      "execution_count": 0,
      "outputs": []
    },
    {
      "cell_type": "code",
      "metadata": {
        "id": "xGGuDABQsp-O",
        "colab_type": "code",
        "colab": {}
      },
      "source": [
        "pip install Flask"
      ],
      "execution_count": 0,
      "outputs": []
    },
    {
      "cell_type": "code",
      "metadata": {
        "id": "E0p4cCOLHTLY",
        "colab_type": "code",
        "colab": {}
      },
      "source": [
        "from flask import Flask"
      ],
      "execution_count": 0,
      "outputs": []
    },
    {
      "cell_type": "code",
      "metadata": {
        "id": "Yzu6vyfGHktl",
        "colab_type": "code",
        "colab": {}
      },
      "source": [
        "from flask import json"
      ],
      "execution_count": 0,
      "outputs": []
    },
    {
      "cell_type": "code",
      "metadata": {
        "id": "rrhQWZlMHpAp",
        "colab_type": "code",
        "colab": {}
      },
      "source": [
        "app = Flask(__name__)"
      ],
      "execution_count": 0,
      "outputs": []
    },
    {
      "cell_type": "code",
      "metadata": {
        "id": "8YNmDMnaIiC5",
        "colab_type": "code",
        "colab": {}
      },
      "source": [
        ""
      ],
      "execution_count": 0,
      "outputs": []
    },
    {
      "cell_type": "code",
      "metadata": {
        "id": "f2zHKiUVHhkj",
        "colab_type": "code",
        "colab": {}
      },
      "source": [
        " @app.route('/')\n",
        " def api_root():\n",
        "      return [\n",
        " \n",
        "{\n",
        "    \"name\": \"Big Cinemas\",\n",
        "     \"Number of employees\": 3000 ,\n",
        "     \"Ceo\" : \"Mark stark\",\n",
        "      \"Rating\": 3.6,\n",
        "},\n",
        "{\n",
        "     \"name\": \"Electronica\",\n",
        "     \"Number of employees\": 3,\n",
        "     \"Ceo\" : \"null\",\n",
        "      \"Rating\": 3,\n",
        "}\n",
        "]\n",
        "\n",
        "\n",
        "if __name__ =='__main__':\n",
        "     app.run(debug=True)"
      ],
      "execution_count": 0,
      "outputs": []
    }
  ]
}